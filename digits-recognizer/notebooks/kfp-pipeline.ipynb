{
 "cells": [
  {
   "cell_type": "code",
   "execution_count": null,
   "id": "67e3d662-e7dd-461a-99ab-24be77010467",
   "metadata": {},
   "outputs": [],
   "source": [
    "import kfp\n",
    "\n",
    "# the namespace in which you deployed Kubeflow Pipelines\n",
    "namespace = \"kubeflow\" \n",
    "\n",
    "client = kfp.Client(host=f\"http://ml-pipeline-ui.{namespace}\")\n",
    "\n",
    "print(client.list_experiments())"
   ]
  },
  {
   "cell_type": "code",
   "execution_count": 14,
   "id": "c02965e2-9c0d-4655-a223-37f0116a97da",
   "metadata": {},
   "outputs": [],
   "source": [
    "# import all the deps\n",
    "from typing import NamedTuple\n",
    "from kfp import dsl"
   ]
  },
  {
   "cell_type": "code",
   "execution_count": 24,
   "id": "2574ef22-03dd-49b6-a016-39b955e36056",
   "metadata": {
    "editable": true,
    "slideshow": {
     "slide_type": ""
    },
    "tags": []
   },
   "outputs": [],
   "source": [
    "from typing import NamedTuple\n",
    "from collections import namedtuple\n",
    "\n",
    "@dsl.component(\n",
    "    base_image=\"python:3.9\",\n",
    "    packages_to_install=[\"tensorflow\", \"minio\", \"numpy\"]\n",
    ")\n",
    "def get_data_batch() -> NamedTuple(\n",
    "    'Outputs',\n",
    "    [\n",
    "        ('datapoints_training', float),\n",
    "        ('datapoints_test', float),\n",
    "        ('dataset_version', str)\n",
    "    ]\n",
    "):\n",
    "    import numpy as np\n",
    "    from minio import Minio\n",
    "\n",
    "    minio_client = Minio(\n",
    "        \"minio-service.kubeflow.svc.cluster.local:9000\",\n",
    "        access_key=\"minio\",\n",
    "        secret_key=\"minio123\",\n",
    "        secure=False\n",
    "    )\n",
    "\n",
    "    minio_bucket = \"mlpipeline\"\n",
    "\n",
    "    print(\"[DEBUG] Attempting to download mnist.npz from Minio...\")\n",
    "    try:\n",
    "        minio_client.fget_object(\n",
    "            minio_bucket,\n",
    "            \"mnist.npz\",\n",
    "            \"/tmp/mnist.npz\"\n",
    "        )\n",
    "        print(\"[DEBUG] Downloaded mnist.npz successfully!\")\n",
    "    except Exception as e:\n",
    "        print(f\"[ERROR] Failed to download mnist.npz: {e}\")\n",
    "        raise\n",
    "\n",
    "    def load_data():\n",
    "        print(\"[DEBUG] Attempting to load /tmp/mnist.npz...\")\n",
    "        try:\n",
    "            with np.load(\"/tmp/mnist.npz\", allow_pickle=True) as f:\n",
    "                x_train, y_train = f[\"x_train\"], f[\"y_train\"]\n",
    "                x_test, y_test = f[\"x_test\"], f[\"y_test\"]\n",
    "            print(\"[DEBUG] Loaded mnist.npz into memory successfully.\")\n",
    "        except Exception as e:\n",
    "            print(f\"[ERROR] Could not load /tmp/mnist.npz: {e}\")\n",
    "            raise\n",
    "        return (x_train, y_train), (x_test, y_test)\n",
    "\n",
    "    print(\"[DEBUG] Loading data from file...\")\n",
    "    try:\n",
    "        (x_train, y_train), (x_test, y_test) = load_data()\n",
    "        print(\"[DEBUG] Data loaded successfully!\")\n",
    "    except Exception as e:\n",
    "        print(f\"[ERROR] Data loading failed: {e}\")\n",
    "        raise\n",
    "\n",
    "    # Save to numpy file, store in Minio\n",
    "    try:\n",
    "        print(\"[DEBUG] Saving x_train...\")\n",
    "        np.save(\"/tmp/x_train.npy\", x_train)\n",
    "        print(\"[DEBUG] Uploading x_train to Minio...\")\n",
    "        minio_client.fput_object(minio_bucket, \"x_train\", \"/tmp/x_train.npy\")\n",
    "        print(\"[DEBUG] x_train upload complete.\")\n",
    "\n",
    "        print(\"[DEBUG] Saving y_train...\")\n",
    "        np.save(\"/tmp/y_train.npy\", y_train)\n",
    "        print(\"[DEBUG] Uploading y_train to Minio...\")\n",
    "        minio_client.fput_object(minio_bucket, \"y_train\", \"/tmp/y_train.npy\")\n",
    "        print(\"[DEBUG] y_train upload complete.\")\n",
    "\n",
    "        print(\"[DEBUG] Saving x_test...\")\n",
    "        np.save(\"/tmp/x_test.npy\", x_test)\n",
    "        print(\"[DEBUG] Uploading x_test to Minio...\")\n",
    "        minio_client.fput_object(minio_bucket, \"x_test\", \"/tmp/x_test.npy\")\n",
    "        print(\"[DEBUG] x_test upload complete.\")\n",
    "\n",
    "        print(\"[DEBUG] Saving y_test...\")\n",
    "        np.save(\"/tmp/y_test.npy\", y_test)\n",
    "        print(\"[DEBUG] Uploading y_test to Minio...\")\n",
    "        minio_client.fput_object(minio_bucket, \"y_test\", \"/tmp/y_test.npy\")\n",
    "        print(\"[DEBUG] y_test upload complete.\")\n",
    "    except Exception as e:\n",
    "        print(f\"[ERROR] Saving or uploading npy files failed: {e}\")\n",
    "        raise\n",
    "\n",
    "    dataset_version = \"1.0\"\n",
    "\n",
    "    print(f\"[INFO] x_train shape: {x_train.shape}\")\n",
    "    print(f\"[INFO] y_train shape: {y_train.shape}\")\n",
    "    print(f\"[INFO] x_test shape: {x_test.shape}\")\n",
    "    print(f\"[INFO] y_test shape: {y_test.shape}\")\n",
    "\n",
    "    Outputs = namedtuple('Outputs', ['datapoints_training', 'datapoints_test', 'dataset_version'])\n",
    "    result = Outputs(float(x_train.shape[0]), float(x_test.shape[0]), dataset_version)\n",
    "    print(f\"[INFO] Returning: {result}\")\n",
    "    return result"
   ]
  },
  {
   "cell_type": "code",
   "execution_count": 25,
   "id": "713b3b63-5a85-43e3-98c7-8f6085b5185b",
   "metadata": {},
   "outputs": [
    {
     "name": "stderr",
     "output_type": "stream",
     "text": [
      "/opt/conda/lib/python3.11/site-packages/kfp/dsl/component_decorator.py:126: FutureWarning: The default base_image used by the @dsl.component decorator will switch from 'python:3.9' to 'python:3.10' on Oct 1, 2025. To ensure your existing components work with versions of the KFP SDK released after that date, you should provide an explicit base_image argument and ensure your component works as intended on Python 3.10.\n",
      "  return component_factory.create_component_from_func(\n"
     ]
    }
   ],
   "source": [
    "@dsl.component\n",
    "def train_model():\n",
    "    print(\"Train model\")"
   ]
  },
  {
   "cell_type": "code",
   "execution_count": 31,
   "id": "298d542e-e37d-4601-bf24-0cb441eba1e5",
   "metadata": {},
   "outputs": [],
   "source": [
    "# pipeline \n",
    "\n",
    "@dsl.pipeline(\n",
    "    name='digits-recognizer-pipeline',\n",
    "    description='detect digits'\n",
    ")\n",
    "def output_test():\n",
    "    step_1 = get_data_batch()\n",
    "    step_2 = train_model().after(step_1)\n"
   ]
  },
  {
   "cell_type": "code",
   "execution_count": 33,
   "id": "93ec941d-9242-44e7-94e3-6ae7426fdd61",
   "metadata": {},
   "outputs": [
    {
     "data": {
      "text/html": [
       "<a href=\"/pipeline/#/experiments/details/113515f5-440e-4b96-9d73-6b00b52c11fd\" target=\"_blank\" >Experiment details</a>."
      ],
      "text/plain": [
       "<IPython.core.display.HTML object>"
      ]
     },
     "metadata": {},
     "output_type": "display_data"
    },
    {
     "data": {
      "text/html": [
       "<a href=\"/pipeline/#/runs/details/fb51e3d6-3828-428e-9a9b-50cd2ab73d27\" target=\"_blank\" >Run details</a>."
      ],
      "text/plain": [
       "<IPython.core.display.HTML object>"
      ]
     },
     "metadata": {},
     "output_type": "display_data"
    }
   ],
   "source": [
    "# compile kfp \n",
    "if __name__ == \"__main__\":\n",
    "    client = kfp.Client()\n",
    "\n",
    "    arguments = {\n",
    "        \"no_epochs\" : 1,\n",
    "        \"optimizer\": \"adam\"\n",
    "    }\n",
    "\n",
    "    run_directly = 1\n",
    "    \n",
    "    if (run_directly == 1):\n",
    "        client.create_run_from_pipeline_func(output_test,experiment_name=\"test\")\n",
    "    else: \n",
    "        print(\"else\")\n"
   ]
  },
  {
   "cell_type": "code",
   "execution_count": null,
   "id": "53c9c9a4-be75-430b-af2b-aa1f428c65a4",
   "metadata": {},
   "outputs": [],
   "source": []
  }
 ],
 "metadata": {
  "kernelspec": {
   "display_name": "Python 3 (ipykernel)",
   "language": "python",
   "name": "python3"
  },
  "language_info": {
   "codemirror_mode": {
    "name": "ipython",
    "version": 3
   },
   "file_extension": ".py",
   "mimetype": "text/x-python",
   "name": "python",
   "nbconvert_exporter": "python",
   "pygments_lexer": "ipython3",
   "version": "3.11.11"
  }
 },
 "nbformat": 4,
 "nbformat_minor": 5
}
